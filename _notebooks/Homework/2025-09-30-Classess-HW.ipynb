{
 "cells": [
  {
   "cell_type": "raw",
   "id": "cddd6643",
   "metadata": {},
   "source": [
    "---\n",
    "layout: base\n",
    "title: Classes and Constructos Homework\n",
    "description:  Classes hw\n",
    "permalink: /classes-hw\n",
    "---"
   ]
  },
  {
   "cell_type": "markdown",
   "id": "60faef8a",
   "metadata": {},
   "source": [
    "# Popcorn Hack 1 — Book class\n",
    "\n",
    "Context: A `Book` is a small object that stores identifying information. This hack helps you practice defining a class, adding an initializer (`__init__`), and a simple method that returns a description string.\n",
    "\n",
    "What to do: Read the code cell below, run it, then try the following:\n",
    "1. Create another `Book` instance with a different title and author and print its description.\n",
    "2. Add a `year` attribute to the class, update `__init__`, and include the year in the `description()` output."
   ]
  },
  {
   "cell_type": "code",
   "execution_count": 2,
   "id": "f58674a5",
   "metadata": {},
   "outputs": [
    {
     "name": "stdout",
     "output_type": "stream",
     "text": [
      "'Don't Let The Forest In' by CJ Drews (1949)\n",
      "'To Kill a Mockingbird' by Harper Lee (1960)\n"
     ]
    }
   ],
   "source": [
    "# Popcorn Hack 1:\n",
    "class Book:\n",
    "    def __init__(self, title, author, year):  \n",
    "        self.title = title\n",
    "        self.author = author\n",
    "        self.year = year\n",
    "\n",
    "    def description(self):\n",
    "        return f\"'{self.title}' by {self.author} ({self.year})\"\n",
    "\n",
    "my_book = Book(\"Don't Let The Forest In\", \"CJ Drews\", 1949)\n",
    "print(my_book.description())\n",
    "\n",
    "second_book = Book(\"To Kill a Mockingbird\", \"Harper Lee\", 1960)\n",
    "print(second_book.description())\n"
   ]
  },
  {
   "cell_type": "markdown",
   "id": "a7a7e247",
   "metadata": {},
   "source": [
    "---\n",
    "\n",
    "# Popcorn Hack 2 — Rectangle class\n",
    "\n",
    "Context: Practice creating a class that represents a simple geometric shape. This hack focuses on initializing numeric attributes and writing a method that computes and returns a derived value (area).\n",
    "\n",
    "What to do: Run the code cell below, then try:\n",
    "1. Add a `perimeter()` method that returns the perimeter.\n",
    "2. Add validation in `__init__` to ensure width and height are positive numbers (raise ValueError otherwise)."
   ]
  },
  {
   "cell_type": "code",
   "execution_count": null,
   "id": "2f36ebc4",
   "metadata": {},
   "outputs": [
    {
     "name": "stdout",
     "output_type": "stream",
     "text": [
      "Area: 15\n",
      "Perimeter: 16\n",
      "Area: 70\n",
      "Perimeter: 34\n"
     ]
    }
   ],
   "source": [
    "# Popcorn Hack 2:\n",
    "class Rectangle:\n",
    "    def __init__(self, width, height):\n",
    "        if width <= 0 or height <= 0:\n",
    "            raise ValueError(\"Width and height must be positive numbers.\")\n",
    "        self.width = width\n",
    "        self.height = height\n",
    "\n",
    "    def area(self):\n",
    "        return self.width * self.height\n",
    "\n",
    "    def perimeter(self):\n",
    "        return 2 * (self.width + self.height)\n",
    "\n",
    "my_rectangle = Rectangle(5, 3)\n",
    "print(\"Area:\", my_rectangle.area())\n",
    "print(\"Perimeter:\", my_rectangle.perimeter())\n",
    "\n",
    "another_rectangle = Rectangle(10, 7)\n",
    "print(\"Area:\", another_rectangle.area())\n",
    "print(\"Perimeter:\", another_rectangle.perimeter())\n"
   ]
  },
  {
   "cell_type": "markdown",
   "id": "55f124c2",
   "metadata": {},
   "source": [
    "# Homework: Tic-Tac-Toe (3 parts)\n",
    "\n",
    "This homework uses small, function-style pieces of the Tic-Tac-Toe code (board as a list of 9 strings).\n",
    "Scoring: each part is worth up to **0.3 points**, plus up to **0.03 points** exceptional credit for elegant/pythonic solutions (e.g., use of `all()`/`any()` or clear docstrings).\n",
    "\n",
    "Instructions: For each part below, replace the `TODO` implementation with working code and run the cell's tests. When you're ready, run the final grader cell which will print your score breakdown."
   ]
  },
  {
   "cell_type": "markdown",
   "id": "41ae2147",
   "metadata": {},
   "source": [
    "## Part A — Win detection (0.3 pts)\n",
    "\n",
    "Implement `check_winner(board, symbol)` which returns True when `symbol` (e.g. 'X') appears in any winning 3-in-a-row pattern on `board`. `board` is a list of 9 strings where an empty square is `' '`.\n",
    "\n",
    "Exceptional credit (0.01 pts): your implementation uses `all()` or `any()` and includes a short docstring explaining the approach."
   ]
  },
  {
   "cell_type": "markdown",
   "id": "16cd1906",
   "metadata": {},
   "source": [
    "## Part B — Find winning/blocking move (0.3 pts)\n",
    "\n",
    "Implement `find_best_move(board, player)` which returns the index (0-8) of an empty square that completes `player` to three-in-a-row, or `-1` if none exists. This is the helper used by simple Tic-Tac-Toe AIs.\n",
    "\n",
    "Exceptional credit (0.01 pts): your implementation is concise (uses comprehensions) and includes a short docstring."
   ]
  },
  {
   "cell_type": "code",
   "execution_count": 4,
   "id": "b25fdbac",
   "metadata": {},
   "outputs": [
    {
     "name": "stdout",
     "output_type": "stream",
     "text": [
      "Part A quick check: call grade_part_A() after implementing check_winner\n"
     ]
    }
   ],
   "source": [
    "# Part A: \n",
    "win_patterns = [\n",
    "    [0, 1, 2], [3, 4, 5], [6, 7, 8],  # Rows\n",
    "    [0, 3, 6], [1, 4, 7], [2, 5, 8],  # Columns\n",
    "    [0, 4, 8], [2, 4, 6]              # Diagonals\n",
    "]\n",
    "\n",
    "def check_winner(board, symbol):\n",
    "    \"\"\"\n",
    "    Check if the given symbol has a winning pattern on the board.\n",
    "    \n",
    "    Args:\n",
    "        board (list): A list of 9 strings representing the Tic-Tac-Toe board.\n",
    "        symbol (str): The player's symbol ('X' or 'O') to check for a win.\n",
    "    \n",
    "    Returns:\n",
    "        bool: True if the symbol has a winning pattern, False otherwise.\n",
    "    \"\"\"\n",
    "    # Ensure the board is valid\n",
    "    if not isinstance(board, list) or len(board) != 9:\n",
    "        raise ValueError(\"board must be a list of 9 elements\")\n",
    "    \n",
    "    # Check all win patterns\n",
    "    for pattern in win_patterns:\n",
    "        if all(board[i] == symbol for i in pattern):\n",
    "            return True\n",
    "    return False\n",
    "\n",
    "# Tests for Part A\n",
    "_tests_A = [\n",
    "    (['X', 'X', 'X', ' ', ' ', ' ', ' ', ' ', ' '], 'X', True),\n",
    "    (['O', ' ', ' ', 'O', ' ', ' ', 'O', ' ', ' '], 'O', True),\n",
    "    (['X', 'O', 'X', 'O', 'X', 'O', 'O', 'X', 'O'], 'X', False),\n",
    "]\n",
    "\n",
    "def grade_part_A():\n",
    "    passed = 0\n",
    "    for b, s, expected in _tests_A:\n",
    "        try:\n",
    "            result = check_winner(b, s)\n",
    "        except Exception as e:\n",
    "            print('Part A: error during execution:', e)\n",
    "            return 0.0, 0.0  # No points if it crashes\n",
    "        if result == expected:\n",
    "            passed += 1\n",
    "    score = 0.3 * (passed / len(_tests_A))\n",
    "    # Small heuristic for exceptional credit: check source for 'all(' or 'any(' and presence of docstring\n",
    "    import inspect\n",
    "    extra = 0.0\n",
    "    try:\n",
    "        src = inspect.getsource(check_winner)\n",
    "        if ('all(' in src or 'any(' in src) and check_winner.__doc__:\n",
    "            extra = 0.03\n",
    "    except Exception:\n",
    "        pass\n",
    "    return score, extra\n",
    "\n",
    "# Run quick self-check\n",
    "print('Part A quick check: call grade_part_A() after implementing check_winner')"
   ]
  },
  {
   "cell_type": "markdown",
   "id": "6cddfbd8",
   "metadata": {},
   "source": [
    "## Part C — Safe move placement (0.3 pts)\n",
    "\n",
    "Implement `make_move(board, position, player)` which attempts to place `player` at `position` (0-8). It should return True and update the board when the move is valid; return False (and leave board unchanged) when the position is invalid or occupied.\n",
    "\n",
    "Exceptional credit (0.01 pts): your implementation includes input validation and a docstring describing edge cases."
   ]
  },
  {
   "cell_type": "code",
   "execution_count": 5,
   "id": "71d3c719",
   "metadata": {},
   "outputs": [],
   "source": [
    "def make_move(board, position, player):\n",
    "    \"\"\"\n",
    "    Attempt to place `player` at `position` (0-8) on `board`.\n",
    "    Returns True if valid and updates board, False otherwise.\n",
    "    \"\"\"\n",
    "    if not isinstance(board, list) or len(board) != 9:\n",
    "        raise ValueError(\"board must be a list of 9 elements\")\n",
    "    if not isinstance(position, int) or position < 0 or position > 8:\n",
    "        return False\n",
    "    if board[position] != ' ':\n",
    "        return False\n",
    "    board[position] = player\n",
    "    return True\n"
   ]
  },
  {
   "cell_type": "markdown",
   "id": "716d4544",
   "metadata": {},
   "source": [
    "# Submission"
   ]
  },
  {
   "cell_type": "markdown",
   "id": "dfa4bb26",
   "metadata": {},
   "source": [
    "Submit the hack here: https://forms.gle/hH9g7Ja9JQvXmsp89"
   ]
  }
 ],
 "metadata": {
  "kernelspec": {
   "display_name": "Python 3",
   "language": "python",
   "name": "python3"
  },
  "language_info": {
   "codemirror_mode": {
    "name": "ipython",
    "version": 3
   },
   "file_extension": ".py",
   "mimetype": "text/x-python",
   "name": "python",
   "nbconvert_exporter": "python",
   "pygments_lexer": "ipython3",
   "version": "3.12.3"
  }
 },
 "nbformat": 4,
 "nbformat_minor": 5
}

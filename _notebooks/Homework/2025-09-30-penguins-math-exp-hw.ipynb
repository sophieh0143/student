{
 "cells": [
  {
   "cell_type": "markdown",
   "id": "96d9c6da",
   "metadata": {},
   "source": [
    "---\n",
    "layout: opencs\n",
    "data: js-lessons\n",
    "title: Mathematical Expressions Homework\n",
    "permalink: /penguins/js-lessons/homework/math-expressions\n",
    "---"
   ]
  },
  {
   "cell_type": "markdown",
   "id": "9dd3192a",
   "metadata": {
    "vscode": {
     "languageId": "plaintext"
    }
   },
   "source": [
    "# Penguins JS Lessons\n",
    "\n",
    "<a href=\"https://github.com/Comp-Sci-Team/js-lesson_pages/blob/main/_notebooks/CSSE/JavaScriptLessons/Mathematic_Expressions/2025-09-30-penguins-math-exp-hw.ipynb\" download><b>Download Homework</b></a> <br/>\n",
    "<a href=\"https://docs.google.com/forms/d/e/1FAIpQLSfwgZR0QYAg_uYuZ7XqqEm-xlU0-gZFE2dtgnKEe5kH7Yp0Vg/viewform?usp=dialog\"><b>Submission Google Form for Homework</b></a>\n",
    "\n",
    "## **Mathematical Expressions Homework**\n",
    "In order to learn this subject of programming well, you have to practice:\n",
    "\n",
    "> Popcorn hack 1: operations with variables\n",
    "\n",
    "> Popcorn hack 2: Make 2 variables `x`, and `y`. Compute 3 different operations and log it into the console with console.log();\n",
    "\n",
    "> Final Task: Build a system of functions that represent different mathematical expressions. Each of these functions will perform a different mathematical operation(ex: add, subtract). Make at least 5 of these different functions. \n",
    "\n",
    "---"
   ]
  },
  {
   "cell_type": "markdown",
   "id": "15bf7fb3",
   "metadata": {},
   "source": [
    "## <b>Popcorn Hack 1 (Progress Check)</b>\n",
    "\n",
    "<b>Part 1:</b><br/>\n",
    "In the javascript node below, make 2 variables, `num1` set to 6 and `num2` set to 3, then write the equation `(num1 * num2) + (num1 / 2)`.\n",
    "\n",
    "The output should be 21.<br/>\n",
    "<br/>\n",
    "<b>Part 2:</b><br/>\n",
    "Next, keeping the same variables, add a new variable called `total` that is equal to the equation `num1 / num2 + 2 ** 3`, and this time make the equation<br/><br/> `(total + 15) - numb1 ** 2 / 4` <br/><br/>\n",
    "\n",
    "Write this code below:"
   ]
  },
  {
   "cell_type": "code",
   "execution_count": 4,
   "id": "529d98c6",
   "metadata": {
    "vscode": {
     "languageId": "javascript"
    }
   },
   "outputs": [
    {
     "data": {
      "application/javascript": "let num1 = 6;\nlet num2 = 3;\n\nconsole.log((num1 * num2) + (num1 / 2)); //Output=21\n\nlet total = num1 / num2 + 2 ** 3;\nconsole.log((total + 15) - num1 ** 2 / 4);\n",
      "text/plain": [
       "<IPython.core.display.Javascript object>"
      ]
     },
     "metadata": {},
     "output_type": "display_data"
    }
   ],
   "source": [
    "%%javascript\n",
    "let num1 = 6;\n",
    "let num2 = 3;\n",
    "\n",
    "console.log((num1 * num2) + (num1 / 2)); //Output=21\n",
    "\n",
    "let total = num1 / num2 + 2 ** 3;\n",
    "console.log((total + 15) - num1 ** 2 / 4);"
   ]
  },
  {
   "cell_type": "markdown",
   "id": "83533354",
   "metadata": {},
   "source": [
    "---\n",
    "\n",
    "## Popcorn Hack 2 (Progress check):\n",
    "\n",
    "Create 2 variables `x` and `y`. With the output area below, provide 3 different operators used with the 2 variables<br/>(`ex: let sum = x + y;`)<br/> and fill in the output with a sentence that provides all three operators and their respective answer."
   ]
  },
  {
   "cell_type": "code",
   "execution_count": null,
   "id": "c26ad088",
   "metadata": {
    "vscode": {
     "languageId": "html"
    }
   },
   "outputs": [
    {
     "data": {
      "application/javascript": "\n<h3>Popcorn hack 2 output</h3>\n<div id=\"homework1\"></div>\n<script>    \n(() => {\n    // Your variables go here\n    let x = 10;\n    let y = 5;\n\n\t// put your operations here:\n\t// feel free to do any operation and change the names of the variables\n\tlet operation1 = x + y\n\tlet operation2 = x - y\n\tlet operation3 = x * y\n\n    // Put the answer for the 3 operators in this DOM element\n    document.getElementById(\"homework1\").innerText = \n        \"When x = \" + x + \" and y = \" + y + \n        \", their sum is \" + operation1 + \n        \", their difference is \" + operation2 + \n        \", and their product is \" + operation3 + \".\";\n})();\n</script>\n",
      "text/plain": [
       "<IPython.core.display.Javascript object>"
      ]
     },
     "metadata": {},
     "output_type": "display_data"
    }
   ],
   "source": [
    "%%javascript\n",
    "\n",
    "<h3>Popcorn hack 2 output</h3>\n",
    "<div id=\"homework1\"></div>\n",
    "<script>    \n",
    "(() => {\n",
    "    // Your variables go here\n",
    "    let x = 10;\n",
    "    let y = 5;\n",
    "\n",
    "\t// put your operations here:\n",
    "\t// feel free to do any operation and change the names of the variables\n",
    "\tlet operation1 = x + y\n",
    "\tlet operation2 = x - y\n",
    "\tlet operation3 = x * y\n",
    "\n",
    "    // Put the answer for the 3 operators in this DOM element\n",
    "    document.getElementById(\"homework1\").innerText = \n",
    "        \"When x = \" + x + \" and y = \" + y + \n",
    "        \", their sum is \" + operation1 + \n",
    "        \", their difference is \" + operation2 + \n",
    "        \", and their product is \" + operation3 + \".\";\n",
    "})();\n",
    "</script>\n",
    "\n",
    "\n",
    "\n",
    "\n",
    "\n"
   ]
  },
  {
   "cell_type": "markdown",
   "id": "221d4674",
   "metadata": {},
   "source": [
    "---\n",
    "\n",
    "## Final Task:\n",
    "\n",
    "1. Make 5 different functions, each with different operators/expressions:\n",
    "\n",
    "- Addition\n",
    "- Subtraction\n",
    "- Multiplication\n",
    "- Exponential\n",
    "- Modulus\n",
    "\n",
    "2. Be able to use the functions as well as <code>document.getElementById</code> to make the buttons output the result.\n",
    "\n",
    "3. Have fun! Mess around with different variables with different values, and maybe see if you can make any complex equations like the ones you're learning in your math class. The end objective is for you to be able to use and understand math expressions.\n",
    "\n",
    "\n",
    "### Example function:\n",
    "\n",
    "```\n",
    "function add(a, b)\n",
    "{\n",
    "\treturn a + b;\n",
    "}\n",
    "```\n",
    "\n",
    "### Some ideas you can use:\n",
    "- Multiply Function\n",
    "- Square root function\n",
    "- Cube root function\n",
    "\n",
    "---\n"
   ]
  },
  {
   "cell_type": "markdown",
   "id": "03f3fc78",
   "metadata": {
    "vscode": {
     "languageId": "html"
    }
   },
   "source": [
    "Now that you have seen the example, you will start writing your custom functions in the html code block below: <br>\n",
    "<u> Make sure to follow each comment on where to write your code, don't modify any existing code. </u>\n",
    "<br><br>"
   ]
  },
  {
   "cell_type": "code",
   "execution_count": null,
   "id": "a1af04c7",
   "metadata": {
    "vscode": {
     "languageId": "html"
    }
   },
   "outputs": [
    {
     "data": {
      "text/html": [
       "\n",
       "<h2>Function outputs:</h2>\n",
       "\n",
       "<!-- Buttons to trigger each function -->\n",
       "<button type=\"button\" onclick=\"Add(4,5)\">adding/output1</button>\n",
       "<div id=\"functionOutput1\"></div>\n",
       "<br>\n",
       "\n",
       "<button type=\"button\" onclick=\"Subtract(10,3)\">subtracting/output2</button>\n",
       "<div id=\"functionOutput2\"></div>\n",
       "<br>\n",
       "\n",
       "<button type=\"button\" onclick=\"Multiply(6,7)\">multiplying/output3</button>\n",
       "<div id=\"functionOutput3\"></div>\n",
       "<br>\n",
       "\n",
       "<button type=\"button\" onclick=\"Exponential(2,4)\">exponential/output4</button>\n",
       "<div id=\"functionOutput4\"></div>\n",
       "<br>\n",
       "\n",
       "<button type=\"button\" onclick=\"Modulus(17,5)\">modulus/output5</button>\n",
       "<div id=\"functionOutput5\"></div>\n",
       "<br>\n",
       "\n",
       "<button type=\"button\" onclick=\"Operations(8,3,2)\">operations/output6</button>\n",
       "<div id=\"functionOutput6\"></div>\n",
       "<br>\n",
       "\n",
       "<button type=\"button\" onclick=\"SuperLongOperations(10,55,21,24,34)\">superlongoperations/output7</button>\n",
       "<div id=\"functionOutput7\"></div>\n",
       "<br>\n",
       "\n",
       "<button type=\"button\" onclick=\"BigNumber(999,1000000)\">BIGNUMBER/output8</button>\n",
       "<div id=\"functionOutput8\"></div>\n",
       "<br>\n",
       "\n",
       "<script> type=\"text/javascript\">\n",
       "    // Adding :)\n",
       "    function Add(a,b) {\n",
       "        let result = a + b;\n",
       "        document.getElementById(\"functionOutput1\").innerText = a + \" + \" + b + \" = \" + result;\n",
       "    }\n",
       "\n",
       "    // subtraction >:)\n",
       "    function Subtract(a,b) {\n",
       "        let result = a - b;\n",
       "        document.getElementById(\"functionOutput2\").innerText = a + \" - \" + b + \" = \" + result;\n",
       "    }\n",
       "\n",
       "    // multiplication :D\n",
       "    function Multiply(a,b) {\n",
       "        let result = a * b;\n",
       "        document.getElementById(\"functionOutput3\").innerText = a + \" * \" + b + \" = \" + result;\n",
       "    }\n",
       "\n",
       "    // exponential :)\n",
       "    function Exponential(a,b) {\n",
       "        let result = a ** b;\n",
       "        document.getElementById(\"functionOutput4\").innerText = a + \" ^ \" + b + \" = \" + result;\n",
       "    }\n",
       "\n",
       "    // modulus :3\n",
       "    function Modulus(a,b) {\n",
       "        let result = a % b;\n",
       "        document.getElementById(\"functionOutput5\").innerText = a + \" % \" + b + \" = \" + result;\n",
       "    }\n",
       "\n",
       "    // operations :>\n",
       "    function Operations(b,g,t) {\n",
       "    let result = b + g - t;\n",
       "    document.getElementById(\"functionOutput6\").innerText = b + \" + \" + g + \" - \" + t + \" = \" + result;\n",
       "}\n",
       "\n",
       "// super long operations\n",
       "    function SuperLongOperations(a,b,c,d,e) {\n",
       "    let result = a + b - c + d * e;\n",
       "    document.getElementById(\"functionOutput7\").innerText = a + \" + \" + b + \" - \" + c + \" + \" + d + \" * \" + e + \" = \" + result;\n",
       "}\n",
       "\n",
       "// big number multiplication\n",
       "    function BigNumber(a,b) {\n",
       "    let result = a * b;\n",
       "    document.getElementById(\"functionOutput8\").innerText = a + \" * \" + b + \" = \" + result;\n",
       "}\n",
       "\n",
       "</script>\n"
      ],
      "text/plain": [
       "<IPython.core.display.HTML object>"
      ]
     },
     "metadata": {},
     "output_type": "display_data"
    }
   ],
   "source": [
    "%%html\n",
    "\n",
    "<h2>Function outputs:</h2>\n",
    "\n",
    "<!-- Buttons to trigger each function -->\n",
    "<button type=\"button\" onclick=\"Add(4,5)\">adding/output1</button>\n",
    "<div id=\"functionOutput1\"></div>\n",
    "<br>\n",
    "\n",
    "<button type=\"button\" onclick=\"Subtract(10,3)\">subtracting/output2</button>\n",
    "<div id=\"functionOutput2\"></div>\n",
    "<br>\n",
    "\n",
    "<button type=\"button\" onclick=\"Multiply(6,7)\">multiplying/output3</button>\n",
    "<div id=\"functionOutput3\"></div>\n",
    "<br>\n",
    "\n",
    "<button type=\"button\" onclick=\"Exponential(2,4)\">exponential/output4</button>\n",
    "<div id=\"functionOutput4\"></div>\n",
    "<br>\n",
    "\n",
    "<button type=\"button\" onclick=\"Modulus(17,5)\">modulus/output5</button>\n",
    "<div id=\"functionOutput5\"></div>\n",
    "<br>\n",
    "\n",
    "<button type=\"button\" onclick=\"Operations(8,3,2)\">operations/output6</button>\n",
    "<div id=\"functionOutput6\"></div>\n",
    "<br>\n",
    "\n",
    "<button type=\"button\" onclick=\"SuperLongOperations(10,55,21,24,34)\">superlongoperations/output7</button>\n",
    "<div id=\"functionOutput7\"></div>\n",
    "<br>\n",
    "\n",
    "<button type=\"button\" onclick=\"BigNumber(999,1000000)\">BIGNUMBER/output8</button>\n",
    "<div id=\"functionOutput8\"></div>\n",
    "<br>\n",
    "\n",
    "<script> type=\"text/javascript\">\n",
    "    // Adding :)\n",
    "    function Add(a,b) {\n",
    "        let result = a + b;\n",
    "        document.getElementById(\"functionOutput1\").innerText = a + \" + \" + b + \" = \" + result;\n",
    "    }\n",
    "\n",
    "    // subtraction >:)\n",
    "    function Subtract(a,b) {\n",
    "        let result = a - b;\n",
    "        document.getElementById(\"functionOutput2\").innerText = a + \" - \" + b + \" = \" + result;\n",
    "    }\n",
    "\n",
    "    // multiplication :D\n",
    "    function Multiply(a,b) {\n",
    "        let result = a * b;\n",
    "        document.getElementById(\"functionOutput3\").innerText = a + \" * \" + b + \" = \" + result;\n",
    "    }\n",
    "\n",
    "    // exponential :)\n",
    "    function Exponential(a,b) {\n",
    "        let result = a ** b;\n",
    "        document.getElementById(\"functionOutput4\").innerText = a + \" ^ \" + b + \" = \" + result;\n",
    "    }\n",
    "\n",
    "    // modulus :3\n",
    "    function Modulus(a,b) {\n",
    "        let result = a % b;\n",
    "        document.getElementById(\"functionOutput5\").innerText = a + \" % \" + b + \" = \" + result;\n",
    "    }\n",
    "\n",
    "    // operations :>\n",
    "    function Operations(b,g,t) {\n",
    "    let result = b + g - t;\n",
    "    document.getElementById(\"functionOutput6\").innerText = b + \" + \" + g + \" - \" + t + \" = \" + result;\n",
    "}\n",
    "\n",
    "    // super long operations :D\n",
    "    function SuperLongOperations(a,b,c,d,e) {\n",
    "    let result = a + b - c + d * e;\n",
    "    document.getElementById(\"functionOutput7\").innerText = a + \" + \" + b + \" - \" + c + \" + \" + d + \" * \" + e + \" = \" + result;\n",
    "}\n",
    "\n",
    "    // big number multiplication :DD\n",
    "    function BigNumber(a,b) {\n",
    "    let result = a * b;\n",
    "    document.getElementById(\"functionOutput8\").innerText = a + \" * \" + b + \" = \" + result;\n",
    "}\n",
    "\n",
    "</script>\n"
   ]
  },
  {
   "cell_type": "markdown",
   "id": "6c6c906a",
   "metadata": {},
   "source": [
    "---\n",
    "\n",
    "<b>Grading</b>\n",
    "\n",
    "Popcorn Hack 1: Completion gives 0.2 points.<br/><br/>\n",
    "Popcorn Hack 2: Completion gives 0.3 points.<br/><br/>\n",
    "\n",
    "Final Task: Completion gives 0.5 points. Max of 0.02 extra points from extra work relevant to the subject or finishing assignment in a way that shows exceptional comprehension of the lesson.\n",
    "\n",
    "<br>\n",
    "<b><u>Make sure to submit your homework deployed link onto the global homework submission google sheet</u><b>"
   ]
  },
  {
   "cell_type": "markdown",
   "id": "9f94ed4c",
   "metadata": {
    "vscode": {
     "languageId": "html"
    }
   },
   "source": [
    "<a href=\"https://docs.google.com/forms/d/e/1FAIpQLSfwgZR0QYAg_uYuZ7XqqEm-xlU0-gZFE2dtgnKEe5kH7Yp0Vg/viewform?usp=dialog\"><b>Submission Google Form for Homework</b></a>"
   ]
  }
 ],
 "metadata": {
  "kernelspec": {
   "display_name": "Python 3",
   "language": "python",
   "name": "python3"
  },
  "language_info": {
   "codemirror_mode": {
    "name": "ipython",
    "version": 3
   },
   "file_extension": ".py",
   "mimetype": "text/x-python",
   "name": "python",
   "nbconvert_exporter": "python",
   "pygments_lexer": "ipython3",
   "version": "3.12.3"
  }
 },
 "nbformat": 4,
 "nbformat_minor": 5
}

{
 "cells": [
  {
   "cell_type": "raw",
   "id": "a44501d1",
   "metadata": {
    "vscode": {
     "languageId": "raw"
    }
   },
   "source": [
    "---\n",
    "title: The Coders - Array Hack Challenge \n",
    "comments: true\n",
    "layout: post\n",
    "permalink: /javascript/array/hack/\n",
    "description: Array Hack Challenge \n",
    "author: The Coders!\n",
    "---"
   ]
  },
  {
   "cell_type": "markdown",
   "id": "4d97fd0c",
   "metadata": {},
   "source": [
    "# Hack #2: Favorite Foods Array -completed-"
   ]
  },
  {
   "cell_type": "code",
   "execution_count": 24,
   "id": "1879697e",
   "metadata": {
    "vscode": {
     "languageId": "javascript"
    }
   },
   "outputs": [
    {
     "data": {
      "application/javascript": "// Hack #1: Favorite Foods Array\n\nlet favoriteFoods = [\"spicy ramen :)\", \"caramel ice cream\", \"gummy bears\", \"cookies\", \"dino chicken nuggets\"];\n\n// 1. Get the first food\nlet firstFood = favoriteFoods[0];\n\n// 2. Change the third food (index 2)\nfavoriteFoods[2] = \"mochi\";\n\n// 3. Add a new food to the end\nfavoriteFoods.push(\" and brownies\");\n\n// 4. Get the new length\nlet foodCount = favoriteFoods.length;\n\n// 5. Add another food at the beginning (bonus)\nfavoriteFoods.unshift(\"bubble tea\");\n\n// 6. Build a nicely formatted output message\nlet outputHTML = `\n  <h3>Hack #1: Favorite Foods Array</h3>\n  <p><b>First food:</b> ${firstFood}</p>\n  <p><b>Number of foods:</b> ${foodCount}</p>\n  <p><b>My favorite foods are now:</b> ${favoriteFoods.join(\", \")}</p>\n`;\n\n// 7. Display the output directly in the Jupyter output cell\nlet outputDiv = document.createElement(\"div\");\noutputDiv.innerHTML = outputHTML;\nelement.append(outputDiv);\n",
      "text/plain": [
       "<IPython.core.display.Javascript object>"
      ]
     },
     "metadata": {},
     "output_type": "display_data"
    }
   ],
   "source": [
    "%%javascript\n",
    "// Hack #1: Favorite Foods Array\n",
    "\n",
    "let favoriteFoods = [\"spicy ramen :)\", \"caramel ice cream\", \"gummy bears\", \"cookies\", \"dino chicken nuggets\"];\n",
    "\n",
    "// 1. Get the first food\n",
    "let firstFood = favoriteFoods[0];\n",
    "\n",
    "// 2. Change the third food (index 2)\n",
    "favoriteFoods[2] = \"mochi\";\n",
    "\n",
    "// 3. Add a new food to the end\n",
    "favoriteFoods.push(\" and brownies\");\n",
    "\n",
    "// 4. Get the new length\n",
    "let foodCount = favoriteFoods.length;\n",
    "\n",
    "// 5. Add another food at the beginning (bonus)\n",
    "favoriteFoods.unshift(\"bubble tea\");\n",
    "\n",
    "// 6. Build a nicely formatted output message\n",
    "let outputHTML = `\n",
    "  <h3>Hack #1: Favorite Foods Array</h3>\n",
    "  <p><b>First food:</b> ${firstFood}</p>\n",
    "  <p><b>Number of foods:</b> ${foodCount}</p>\n",
    "  <p><b>My favorite foods are now:</b> ${favoriteFoods.join(\", \")}</p>\n",
    "`;\n",
    "\n",
    "// 7. Display the output directly in the Jupyter output cell\n",
    "let outputDiv = document.createElement(\"div\");\n",
    "outputDiv.innerHTML = outputHTML;\n",
    "element.append(outputDiv);\n"
   ]
  },
  {
   "cell_type": "markdown",
   "id": "e216b382",
   "metadata": {},
   "source": [
    "# Bonus Challenge -completed-"
   ]
  },
  {
   "cell_type": "code",
   "execution_count": 25,
   "id": "556262b7",
   "metadata": {
    "vscode": {
     "languageId": "javascript"
    }
   },
   "outputs": [
    {
     "data": {
      "application/javascript": "// Bonus Challenge: Add a food to the beginning using unshift()\n\n// Starting with a food list\nlet favoriteFoods = [\"caramel ice cream\", \"gummy bears\", \"cookies\", \"brownies\", \"dino chicken nuggets\", \"spicy ramen\"];\n\n// Step 1: added \"waffles\" as one of my favorite foods\nfavoriteFoods.unshift(\"waffles\");\n\n// Step 2: Build the HTML output without using template literals\nlet outputHTML = \n  \"<h3>Bonus Challenge :): unshift()</h3>\" +\n  \"<p><b>Updated list:</b> \" + favoriteFoods.join(\", \") + \"</p>\" +\n  \"<p><b>New length:</b> \" + favoriteFoods.length + \"</p>\" +\n  \"<p><i>Notice how all the other foods shifted right after adding 'waffles' to the front!</i></p>\";\n\n// Step 3: Display the result in the notebook output cell\nlet outputDiv = document.createElement(\"div\");\noutputDiv.innerHTML = outputHTML;\nelement.append(outputDiv);\n",
      "text/plain": [
       "<IPython.core.display.Javascript object>"
      ]
     },
     "metadata": {},
     "output_type": "display_data"
    }
   ],
   "source": [
    "%%javascript\n",
    "// Bonus Challenge: Add a food to the beginning using unshift()\n",
    "\n",
    "// Starting with a food list\n",
    "let favoriteFoods = [\"caramel ice cream\", \"gummy bears\", \"cookies\", \"brownies\", \"dino chicken nuggets\", \"spicy ramen\"];\n",
    "\n",
    "// Step 1: added \"waffles\" as one of my favorite foods\n",
    "favoriteFoods.unshift(\"waffles\");\n",
    "\n",
    "// Step 2: Build the HTML output without using template literals\n",
    "let outputHTML = \n",
    "  \"<h3>Bonus Challenge :): unshift()</h3>\" +\n",
    "  \"<p><b>Updated list:</b> \" + favoriteFoods.join(\", \") + \"</p>\" +\n",
    "  \"<p><b>New length:</b> \" + favoriteFoods.length + \"</p>\" +\n",
    "  \"<p><i>Notice how all the other foods shifted right after adding 'waffles' to the front!</i></p>\";\n",
    "\n",
    "// Step 3: Display the result in the notebook output cell\n",
    "let outputDiv = document.createElement(\"div\");\n",
    "outputDiv.innerHTML = outputHTML;\n",
    "element.append(outputDiv);\n"
   ]
  },
  {
   "cell_type": "markdown",
   "id": "b9fcfdf4",
   "metadata": {},
   "source": [
    "# Hack 2: Temperature Array -completed-"
   ]
  },
  {
   "cell_type": "code",
   "execution_count": 27,
   "id": "49da6f5d",
   "metadata": {
    "vscode": {
     "languageId": "javascript"
    }
   },
   "outputs": [
    {
     "data": {
      "application/javascript": "// Hack #2: Temperature Array\n\n// 1. Create an array with 7 daily temperatures\nlet weekTemps = [72, 68, 74, 80, 76, 72, 67];\n\n// 2. Get Monday and Friday temperatures\nlet mondayTemp = weekTemps[0];\nlet fridayTemp = weekTemps[4];\n\n// 3. Calculate the average temperature\nlet total = 0;\nfor (let i = 0; i < weekTemps.length; i++) {\n    total += weekTemps[i];\n}\nlet averageTemp = (total / weekTemps.length).toFixed(1); // one decimal place\n\n// 4. Find the highest temperature\nlet maxTemp = Math.max.apply(null, weekTemps);\n\n// 5. Check if any day was above 80 degrees\nlet hotMessage = \"\";\nlet anyHot = false;\nfor (let i = 0; i < weekTemps.length; i++) {\n    if (weekTemps[i] > 80) {\n        anyHot = true;\n        break;\n    }\n}\nif (anyHot) {\n    hotMessage = \"It was hot this week!\";\n} else {\n    hotMessage = \"It was mild this week.\";\n}\n\n// Build HTML output\nlet outputHTML = \n  \"<h3>Hack #2: Temperature Array</h3>\" +\n  \"<p><b>Monday's temperature:</b> \" + mondayTemp + \"°</p>\" +\n  \"<p><b>Friday's temperature:</b> \" + fridayTemp + \"°</p>\" +\n  \"<p><b>Average temperature:</b> \" + averageTemp + \"°</p>\" +\n  \"<p><b>Highest temperature:</b> \" + maxTemp + \"°</p>\" +\n  \"<p><b>Temperature message:</b> \" + hotMessage + \"</p>\";\n\n// Display the results in the notebook\nlet outputDiv = document.createElement(\"div\");\noutputDiv.innerHTML = outputHTML;\nelement.append(outputDiv);\n",
      "text/plain": [
       "<IPython.core.display.Javascript object>"
      ]
     },
     "metadata": {},
     "output_type": "display_data"
    }
   ],
   "source": [
    "%%javascript\n",
    "// Hack #2: Temperature Array\n",
    "\n",
    "// 1. Create an array with 7 daily temperatures\n",
    "let weekTemps = [72, 68, 74, 80, 76, 72, 67];\n",
    "\n",
    "// 2. Get Monday and Friday temperatures\n",
    "let mondayTemp = weekTemps[0];\n",
    "let fridayTemp = weekTemps[4];\n",
    "\n",
    "// 3. Calculate the average temperature\n",
    "let total = 0;\n",
    "for (let i = 0; i < weekTemps.length; i++) {\n",
    "    total += weekTemps[i];\n",
    "}\n",
    "let averageTemp = (total / weekTemps.length).toFixed(1); // one decimal place\n",
    "\n",
    "// 4. Find the highest temperature\n",
    "let maxTemp = Math.max.apply(null, weekTemps);\n",
    "\n",
    "// 5. Check if any day was above 80 degrees\n",
    "let hotMessage = \"\";\n",
    "let anyHot = false;\n",
    "for (let i = 0; i < weekTemps.length; i++) {\n",
    "    if (weekTemps[i] > 80) {\n",
    "        anyHot = true;\n",
    "        break;\n",
    "    }\n",
    "}\n",
    "if (anyHot) {\n",
    "    hotMessage = \"It was hot this week!\";\n",
    "} else {\n",
    "    hotMessage = \"It was mild this week.\";\n",
    "}\n",
    "\n",
    "// Build HTML output\n",
    "let outputHTML = \n",
    "  \"<h3>Hack #2: Temperature Array</h3>\" +\n",
    "  \"<p><b>Monday's temperature:</b> \" + mondayTemp + \"°</p>\" +\n",
    "  \"<p><b>Friday's temperature:</b> \" + fridayTemp + \"°</p>\" +\n",
    "  \"<p><b>Average temperature:</b> \" + averageTemp + \"°</p>\" +\n",
    "  \"<p><b>Highest temperature:</b> \" + maxTemp + \"°</p>\" +\n",
    "  \"<p><b>Temperature message:</b> \" + hotMessage + \"</p>\";\n",
    "\n",
    "// Display the results in the notebook\n",
    "let outputDiv = document.createElement(\"div\");\n",
    "outputDiv.innerHTML = outputHTML;\n",
    "element.append(outputDiv);\n"
   ]
  }
 ],
 "metadata": {
  "kernelspec": {
   "display_name": "Python 3",
   "language": "python",
   "name": "python3"
  },
  "language_info": {
   "codemirror_mode": {
    "name": "ipython",
    "version": 3
   },
   "file_extension": ".py",
   "mimetype": "text/x-python",
   "name": "python",
   "nbconvert_exporter": "python",
   "pygments_lexer": "ipython3",
   "version": "3.12.3"
  }
 },
 "nbformat": 4,
 "nbformat_minor": 5
}

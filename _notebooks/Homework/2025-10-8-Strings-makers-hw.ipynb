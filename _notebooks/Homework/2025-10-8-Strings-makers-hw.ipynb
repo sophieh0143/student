{
 "cells": [
  {
   "cell_type": "markdown",
   "id": "04560c95",
   "metadata": {
    "vscode": {
     "languageId": "raw"
    }
   },
   "source": [
    "---\n",
    "layout: post\n",
    "title: Strings HW :)\n",
    "description:  Strings Homework\n",
    "categories: ['Homework']\n",
    "permalink: /strings-homework\n",
    "author: Makers\n",
    "---"
   ]
  },
  {
   "cell_type": "markdown",
   "id": "905d8e89",
   "metadata": {},
   "source": [
    "<hr>\n",
    "\n",
    "# JavaScript Strings Popcorn Hacks & Homework"
   ]
  },
  {
   "cell_type": "markdown",
   "id": "5914a247",
   "metadata": {},
   "source": [
    "## Popcorn Hack #1 - Secret Password"
   ]
  },
  {
   "cell_type": "markdown",
   "id": "98fb2838",
   "metadata": {},
   "source": [
    "### Instructions:\n",
    "\n",
    "1.\tCreate three string variables named secretBase, codeWord, and symbol.\n",
    "\t•\tEach should contain text inside quotes (\" \" or ' ').\n",
    "2.\tFind the number of characters in the secretBase string.\n",
    "\t•\tUse the .length property to count how many characters are in the string.\n",
    "\t•\tStore this value in a new variable called baseLength.\n",
    "3.\tChange all the letters in the codeWord string to uppercase.\n",
    "\t•\tUse the .toUpperCase() method and store the result in a variable named fullCode.\n",
    "4.\tCombine all the strings together to reveal the full secret message.\n",
    "\t•\tUse the + operator to concatenate secretBase, fullCode, and symbol.\n",
    "\t•\tSave it to a variable named fullSecret.\n",
    "5.\tPrint your results using console.log().\n",
    "\t•\tDisplay both the string length and the full secret message in the console."
   ]
  },
  {
   "cell_type": "code",
   "execution_count": 1,
   "id": "d392cf50",
   "metadata": {
    "vscode": {
     "languageId": "javascript"
    }
   },
   "outputs": [
    {
     "data": {
      "application/javascript": "\n// create variables here (notetoself: create output)\nlet secretBase = \"hidden base \";\nlet codeWord = \"mission\";\nlet symbol = \"!\";\n\nlet baseLength = secretBase.length;\n\nlet fullCode = codeWord.toUpperCase();\n\nlet fullSecret = secretBase + fullCode + symbol;\n\nconsole.log(\"The number of characters in the secret base is:\");\nconsole.log(baseLength);\n\nconsole.log(\"The full secret message is:\");\nconsole.log(fullSecret);\n",
      "text/plain": [
       "<IPython.core.display.Javascript object>"
      ]
     },
     "metadata": {},
     "output_type": "display_data"
    }
   ],
   "source": [
    "%%javascript\n",
    "\n",
    "// create variables here (notetoself: create output)\n",
    "let secretBase = \"hidden base \";\n",
    "let codeWord = \"mission\";\n",
    "let symbol = \"!\";\n",
    "\n",
    "let baseLength = secretBase.length;\n",
    "\n",
    "let fullCode = codeWord.toUpperCase();\n",
    "\n",
    "let fullSecret = secretBase + fullCode + symbol;\n",
    "\n",
    "console.log(\"The number of characters in the secret base is:\");\n",
    "console.log(baseLength);\n",
    "\n",
    "console.log(\"The full secret message is:\");\n",
    "console.log(fullSecret);\n"
   ]
  },
  {
   "cell_type": "markdown",
   "id": "2573df28",
   "metadata": {},
   "source": [
    "<hr>\n",
    "\n",
    "## Popcorn Hack #2 - Grocery Store"
   ]
  },
  {
   "cell_type": "markdown",
   "id": "264a65e7",
   "metadata": {},
   "source": [
    "### Instructions:\n",
    "\n",
    "1.\tDefine your variables and string values\n",
    "\t•\tEach should contain text inside quotes (\" \" or ' ').\n",
    "    •\tYour variables should include: `ingredient`, `price`, and `store`.\n",
    "2.\tWrite a message using template liberals.\n",
    "\t•\tUsing mlti-line strings and interpolation, create a complex sentence writing an automated message advertising a discounted item.\n",
    "\t•\tUse backticks!!\n",
    "3.\tUse interpolation to check the amount of characters in the lesson!\n",
    "\t•\tUse `${}` and `.length` to help.\n",
    "4.\tPrint your results using console.log().\n",
    "\t•\tDisplay both the string length and the full secret message in the console."
   ]
  },
  {
   "cell_type": "code",
   "execution_count": 5,
   "id": "8c5ea064",
   "metadata": {
    "vscode": {
     "languageId": "javascript"
    }
   },
   "outputs": [
    {
     "data": {
      "application/javascript": "\n// Task 1: Define your variables and strings\n\nlet ingredient = \"chocolate chip cookies\"; \nlet price = \"$67.67\";\nlet store = \"Six Seven Bakery\";\n\nlet snackMessage = \n\"Attention dessert lovers!\\n\" +\n\"For a limited time only, get freshly baked \" + ingredient + \" \" +\n\"at \" + store + \" for just \" + price + \".\\n\" +\n\"Don't miss your chance to taste happiness today!\";\n\n//message here\nconsole.log(\"The full message is \" + snackMessage.length + \" characters long.\");\nconsole.log(snackMessage);\n",
      "text/plain": [
       "<IPython.core.display.Javascript object>"
      ]
     },
     "metadata": {},
     "output_type": "display_data"
    }
   ],
   "source": [
    "%%javascript\n",
    "\n",
    "// Task 1: Define your variables and strings\n",
    "\n",
    "let ingredient = \"chocolate chip cookies\"; \n",
    "let price = \"$67.67\";\n",
    "let store = \"Six Seven Bakery\";\n",
    "\n",
    "let snackMessage = \n",
    "\"Attention dessert lovers!\\n\" +\n",
    "\"For a limited time only, get freshly baked \" + ingredient + \" \" +\n",
    "\"at \" + store + \" for just \" + price + \".\\n\" +\n",
    "\"Don't miss your chance to taste happiness today!\";\n",
    "\n",
    "//message here\n",
    "console.log(\"The full message is \" + snackMessage.length + \" characters long.\");\n",
    "console.log(snackMessage);\n"
   ]
  },
  {
   "cell_type": "markdown",
   "id": "2202b84e",
   "metadata": {},
   "source": [
    "<hr>\n",
    "\n",
    "# Homework\n",
    "\n",
    "Objective: Apply string concepts (const, quotes, .length, .toUpperCase(), and template literals) to format game data.\n",
    "\n",
    "## 🏷️ Part A - String Variables & Quotes\n",
    "Create a constant variable named `UPGRADE_NAME` and assign it the string value `\"Lucky Seven\"`. Print this variable to the console.\n",
    "\n",
    "Create a variable named `cost` and assign it the number value 7777. Print this number to the console.\n",
    "\n",
    "Create a variable named `EMOJI` and assign it the emoji string value \"🍀\". \n",
    "\n",
    "Create a variable named `BUTTON_CLASS` and assign it the string value: bg-green-500 hover:bg-green-600 text-white. \n",
    "\n",
    "## 📏 Part B – Length and Modification\n",
    "Using the `UPGRADE_NAME` variable from above, create a new constant variable named `DISPLAY_NAME` that converts the name to all uppercase letters. Print `DISPLAY_NAME`.\n",
    "\n",
    "Create a constant variable named `NAME_LENGTH` that stores the total number of characters (including spaces) in the original `UPGRADE_NAME`. Print the length to the console with a label like: \"Name Character Count: [Count]\".\n",
    "\n",
    "Create a variable named message that stores the exact string below. \n",
    "\n",
    "\"Insufficient Cookies\"\n",
    "\n",
    "## ✨ Part C – Template Literal Interpolation\n",
    "Use string concatenation (the + sign) to combine the EMOJI, UPGRADE_NAME, and cost variables into the following exact output. Print the result.\n",
    "Challenge (extra credit): Use String Interpolation \n",
    "\n",
    "🍀 Lucky Seven (7777 Cookies)\n",
    "Now, rewrite the entire message from problem 8 using a template literal (backticks `) and interpolation (${}). Store the result in a new variable called shopButtonText. Print shopButtonText.\n",
    "\n",
    "The Final Message: Create a constant variable named errorDisplay that uses a template literal to combine the following three variables into one clean message: EMOJI, UPGRADE_NAME, and message.\n",
    "\n",
    "Error: 🍀 Lucky Seven purchase failed: \"Insufficient Cookies\"\n",
    "Hint: The quote marks around Insufficient Cookies must be part of the final output string.\n",
    "\n",
    "\n",
    "🌟 Extra Credit Challenge (Optional)\n",
    "Create a variable named `HINT_TEXT` that stores the following exact quote:\n",
    "The \"Lucky Seven\" upgrade multiplies your clicks by 7.\n"
   ]
  },
  {
   "cell_type": "code",
   "execution_count": 10,
   "id": "a77d159b",
   "metadata": {
    "vscode": {
     "languageId": "javascript"
    }
   },
   "outputs": [
    {
     "data": {
      "application/javascript": "\n// --- Start Your Code Here ---\n\n// Part A:\n// 1.\nconst UPGRADE_NAME = \"Lucky Seven\";\nconsole.log(UPGRADE_NAME);\n\n// 2.\nlet cost = 7777;\nconsole.log(cost);\n\n// 3.\nlet EMOJI = \"🍀\";\n\n// 4.\nlet BUTTON_CLASS = \"bg-green-500 hover:bg-green-600 text-white\";\n\n// Part B\n// 5.\nconst DISPLAY_NAME = UPGRADE_NAME.toUpperCase();\nconsole.log(DISPLAY_NAME);\n\n// 6.\nconst NAME_LENGTH = UPGRADE_NAME.length;\nconsole.log(\"Name Character Count: \" + NAME_LENGTH);\n\n// 7.\nlet message = \"Insufficient Cookies\";\n\n// Part C:\n// 8.\nconsole.log(EMOJI + \" \" + UPGRADE_NAME + \" (\" + cost + \" Cookies)\");\n\n// 9.\nlet shopButtonText = EMOJI + \" \" + UPGRADE_NAME + \" (\" + cost + \" Cookies)\";\nconsole.log(shopButtonText);\n\n// 10. \nconst errorDisplay = \"Error: \" + EMOJI + \" \" + UPGRADE_NAME + \" purchase failed: \\\"\" + message + \"\\\"\";\nconsole.log(errorDisplay);\n\n// Extra Credit (pls I tried)\nlet HINT_TEXT = \"The \\\"Lucky Seven\\\" upgrade multiplies your clicks by 7.\";\nconsole.log(HINT_TEXT);\n",
      "text/plain": [
       "<IPython.core.display.Javascript object>"
      ]
     },
     "metadata": {},
     "output_type": "display_data"
    }
   ],
   "source": [
    "%%javascript\n",
    "\n",
    "// --- Start Your Code Here ---\n",
    "\n",
    "// Part A:\n",
    "// 1.\n",
    "const UPGRADE_NAME = \"Lucky Seven\";\n",
    "console.log(UPGRADE_NAME);\n",
    "\n",
    "// 2.\n",
    "let cost = 7777;\n",
    "console.log(cost);\n",
    "\n",
    "// 3.\n",
    "let EMOJI = \"🍀\";\n",
    "\n",
    "// 4.\n",
    "let BUTTON_CLASS = \"bg-green-500 hover:bg-green-600 text-white\";\n",
    "\n",
    "// Part B\n",
    "// 5.\n",
    "const DISPLAY_NAME = UPGRADE_NAME.toUpperCase();\n",
    "console.log(DISPLAY_NAME);\n",
    "\n",
    "// 6.\n",
    "const NAME_LENGTH = UPGRADE_NAME.length;\n",
    "console.log(\"Name Character Count: \" + NAME_LENGTH);\n",
    "\n",
    "// 7.\n",
    "let message = \"Insufficient Cookies\";\n",
    "\n",
    "// Part C:\n",
    "// 8.\n",
    "console.log(EMOJI + \" \" + UPGRADE_NAME + \" (\" + cost + \" Cookies)\");\n",
    "\n",
    "// 9.\n",
    "let shopButtonText = EMOJI + \" \" + UPGRADE_NAME + \" (\" + cost + \" Cookies)\";\n",
    "console.log(shopButtonText);\n",
    "\n",
    "// 10. \n",
    "const errorDisplay = \"Error: \" + EMOJI + \" \" + UPGRADE_NAME + \" purchase failed: \\\"\" + message + \"\\\"\";\n",
    "console.log(errorDisplay);\n",
    "\n",
    "// Extra Credit (pls I tried)\n",
    "let HINT_TEXT = \"The \\\"Lucky Seven\\\" upgrade multiplies your clicks by 7.\";\n",
    "console.log(HINT_TEXT);\n"
   ]
  }
 ],
 "metadata": {
  "kernelspec": {
   "display_name": "Python 3",
   "language": "python",
   "name": "python3"
  },
  "language_info": {
   "codemirror_mode": {
    "name": "ipython",
    "version": 3
   },
   "file_extension": ".py",
   "mimetype": "text/x-python",
   "name": "python",
   "nbconvert_exporter": "python",
   "pygments_lexer": "ipython3",
   "version": "3.12.3"
  }
 },
 "nbformat": 4,
 "nbformat_minor": 5
}

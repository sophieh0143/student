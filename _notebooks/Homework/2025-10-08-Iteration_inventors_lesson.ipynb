{
 "cells": [
  {
   "cell_type": "raw",
   "id": "8bc5a172",
   "metadata": {
    "vscode": {
     "languageId": "raw"
    }
   },
   "source": [
    "---\n",
    "layout: post\n",
    "toc: True\n",
    "title: Inventors - Iterations Lesson\n",
    "description: This is the lesson for iterations in JavaScript.\n",
    "permalink: /javascript/iteration/inventors-lesson\n",
    "author: Pranav Sai\n",
    "categories: ['Homework']\n",
    "---\n"
   ]
  },
  {
   "cell_type": "markdown",
   "id": "96e1f102",
   "metadata": {},
   "source": [
    "<!-- \n",
    "<h4>Presented by the Inventors</h4>\n",
    "\n",
    " -->\n"
   ]
  },
  {
   "cell_type": "markdown",
   "id": "b8fb4118",
   "metadata": {},
   "source": [
    "## Iterations\n",
    "\n",
    "\n",
    "Iterations allow you to execute a block of code multiple times. It helps you automate repetitive tasks and consists of the following components.\n",
    "\n",
    "\n",
    "### Repetition\n",
    "\n",
    "Repetition means that a block of code is executed multiple times instead of writing it out manually for each occurrence. This is usually achieved with loops such as for, while, or do-while loops.\n",
    "\n",
    "Why it’s useful:\n",
    "Saves time and avoids redundancy. Instead of writing 100 lines to print numbers 1 to 100, a loop can handle it in just a few lines. \n",
    "\n",
    "\n",
    "Makes programs easier to find if tomorrow you need 1,000 repetitions instead of 100, you just adjust a single parameter. Easier to update.       \n",
    "\n",
    "\n",
    "### Condition\n",
    "A condition decides when a repetition should stop or continue. Things like loops tend to rely on conditions to decide whether another cycle should run.\n",
    "Why it’s useful:\n",
    "\n",
    "\n",
    "Conditions are useful because it ensures that repetitions won’t be infinite.\n",
    " Conditions also allow you to use efficient resources by stopping the execution after \n",
    "Allows efficient resource use by stopping execution once a goal is reached (e.g., halting a search once the answer is found instead of checking every possibility).\n",
    "\n",
    "\n",
    "\n",
    "\n",
    "### Progress\n",
    "Progress describes the change that happens during each iteration or each loop. With the progress the condition changes and without it it leads to an infinite loop. Progress is achieved most of the time by updating variables or processing data.\n",
    "Why it’s useful:\n",
    "It makes it go closer and closer to the desired output.\n",
    "\n",
    "\n",
    "Helps solve complex problems step by step, good examples of it would be improving numerical approximation.\n",
    "\n",
    "\n",
    "It creates the basis when you need algorithms to solve problems involving searching or sorting.\n",
    "\n",
    "\n"
   ]
  },
  {
   "cell_type": "markdown",
   "id": "809e9be1",
   "metadata": {},
   "source": [
    "### Snake Game\n",
    "\n",
    "Lets see how iterations are used in the Snake game:"
   ]
  },
  {
   "cell_type": "code",
   "execution_count": null,
   "id": "e06c61d2",
   "metadata": {
    "vscode": {
     "languageId": "javascript"
    }
   },
   "outputs": [],
   "source": [
    "%%javascript\n",
    "//Examples of iterations in snake:\n",
    "\n",
    "\n",
    "for (let i = 0; i < wall_setting.length; i++) {\n",
    "    wall_setting[i].addEventListener(\"click\", function() { ... });\n",
    "}\n",
    "\n",
    "\n",
    "//This is one example of iteration from the snake game.This loop iterates over every element in wall_setting.  The purpose is to attach a click event listener to each element.  Without iteration, you’d have to manually write an event listener for each one.\n",
    "\n",
    "\n",
    " for (let i = 0; i < wall_setting.length; i++) {\n",
    "    if (wall_setting[i].checked) {\n",
    "        setWall(wall_setting[i].value);\n",
    "    }\n",
    "}\n",
    "\n",
    "//This loop runs every time someone clicks\n",
    "//The Purpose is to find which one is checked, then use its values\n"
   ]
  },
  {
   "cell_type": "markdown",
   "id": "2f5d09ab",
   "metadata": {},
   "source": [
    "### Let's take an example of a guessing game\n",
    "\n",
    "\n",
    " Repetition: The program keeps asking for guesses.\n",
    "\n",
    "\n",
    "Condition: The loop continues until the user guesses correctly.\n",
    "\n",
    "\n",
    "Progress: Each guess is compared to the last one, and the computer also gives hints like “too high” or “too low”.\n",
    "\n",
    "\n"
   ]
  }
 ],
 "metadata": {
  "kernelspec": {
   "display_name": "venv",
   "language": "python",
   "name": "python3"
  },
  "language_info": {
   "codemirror_mode": {
    "name": "ipython",
    "version": 3
   },
   "file_extension": ".py",
   "mimetype": "text/x-python",
   "name": "python",
   "nbconvert_exporter": "python",
   "pygments_lexer": "ipython3",
   "version": "3.11.9"
  }
 },
 "nbformat": 4,
 "nbformat_minor": 5
}

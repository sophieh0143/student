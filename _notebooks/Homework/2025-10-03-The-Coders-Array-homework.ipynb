{
 "cells": [
  {
   "cell_type": "markdown",
   "id": "999a3e20",
   "metadata": {},
   "source": [
    "---\n",
    "title: The Coders - CSSE Arrays Homework\n",
    "comments: true\n",
    "layout: base\n",
    "permalink: /javascript/array/homework\n",
    "description: 📚 Array Homework\n",
    "author: The Coders!\n",
    "---"
   ]
  },
  {
   "cell_type": "markdown",
   "id": "7965af3f",
   "metadata": {},
   "source": [
    "## Homework\n",
    "\n",
    "Arrays are like containers! They group multiple elements under one variable. You can see this by observing the code and the output. (run it)"
   ]
  },
  {
   "cell_type": "code",
   "execution_count": null,
   "id": "4919349b",
   "metadata": {
    "vscode": {
     "languageId": "javascript"
    }
   },
   "outputs": [
    {
     "data": {
      "text/html": [
       "\n",
       "<html>\n",
       "\n",
       "<body>\n",
       "  <h2>Output</h2>\n",
       "  <div id=\"output\"></div>\n",
       "\n",
       "  <script>\n",
       "    document.getElementById(\"output\").innerText = \"\"; // Clear output\n",
       "    (() => {\n",
       "\n",
       "        let numbers = [1, 2, 3, 4];\n",
       "        console.log(numbers);\n",
       "        document.getElementById(\"output\").innerText += numbers;\n",
       "\n",
       "\n",
       "    })();\n",
       "  </script>\n",
       "</body>\n",
       "</html>\n"
      ],
      "text/plain": [
       "<IPython.core.display.HTML object>"
      ]
     },
     "metadata": {},
     "output_type": "display_data"
    }
   ],
   "source": [
    "%%html\n",
    "\n",
    "<html>\n",
    "\n",
    "<body>\n",
    "  <h2>Output</h2>\n",
    "  <div id=\"output\"></div>\n",
    "\n",
    "  <script>\n",
    "    document.getElementById(\"output\").innerText = \"\"; // Clear output\n",
    "    (() => {\n",
    "\n",
    "        let numbers = [1, 2, 3, 4];\n",
    "        console.log(numbers);\n",
    "        document.getElementById(\"output\").innerText += numbers;\n",
    "\n",
    "\n",
    "    })();\n",
    "  </script>\n",
    "</body>\n",
    "</html>"
   ]
  },
  {
   "cell_type": "markdown",
   "id": "0926c8f2",
   "metadata": {},
   "source": [
    "You can see that you only had to type one variable instead of multiple to get the group of numbers. Try it out yourself to get the concept\n",
    "\n",
    "### Part A of the homework (Graded for completion)\n",
    "\n",
    "- Think of 3 things you like to do on the weekend.\n",
    "- Come up with a name for this list of 3 things\n",
    "- In the code cell below, look for \"titleofthings\" and the 3 THINGS.\n",
    "- Replace all of the \"titleofthings\" with the name you came up with.\n",
    "- Replace THING 1, 2, and 3 with the 3 things you you like to do. (make sure not to delete the quotation marks)\n",
    "- run the code"
   ]
  },
  {
   "cell_type": "code",
   "execution_count": null,
   "id": "5f4c7add",
   "metadata": {
    "vscode": {
     "languageId": "javascript"
    }
   },
   "outputs": [
    {
     "data": {
      "text/html": [
       "\n",
       "<html>\n",
       "\n",
       "<body>\n",
       "  <h2>Output 2</h2>\n",
       "  <div id=\"outputpls\"></div>\n",
       "\n",
       "  <script>\n",
       "    document.getElementById(\"outputpls\").innerText = \"\"; // Clear output\n",
       "    (() => {\n",
       "\n",
       "        let titleofthings = [\"THING 1\", \"THING 2\", \" and THING 3\", ];\n",
       "        const sentence = \"I like to: \" + titleofthings;\n",
       "        console.log(sentence);\n",
       "        document.getElementById(\"outputpls\").innerText += sentence;\n",
       "\n",
       "\n",
       "    })();\n",
       "  </script>\n",
       "</body>\n",
       "</html>\n"
      ],
      "text/plain": [
       "<IPython.core.display.HTML object>"
      ]
     },
     "metadata": {},
     "output_type": "display_data"
    }
   ],
   "source": [
    "%%html\n",
    "\n",
    "<html>\n",
    "\n",
    "<body>\n",
    "  <h2>Output 2</h2>\n",
    "  <div id=\"outputpls\"></div>\n",
    "\n",
    "  <script>\n",
    "    document.getElementById(\"outputpls\").innerText = \"\"; // Clear output\n",
    "    (() => {\n",
    "\n",
    "        let titleofthings = [\"THING 1\", \"THING 2\", \" and THING 3\", ];\n",
    "        const sentence = \"I like to: \" + titleofthings;\n",
    "        console.log(sentence);\n",
    "        document.getElementById(\"outputpls\").innerText += sentence;\n",
    "\n",
    "\n",
    "    })();\n",
    "  </script>\n",
    "</body>\n",
    "</html>"
   ]
  },
  {
   "cell_type": "markdown",
   "id": "6919694a",
   "metadata": {},
   "source": [
    "Once you have ran the code, see how your list is generated without you having to type each individual word into the DOM. This concept applies to all other situations where you would want to reference your list.\n",
    "\n",
    "### Part B (Graded for completion)\n",
    "\n",
    "- Let's say you want to write a few sentences about the things you do after school, but you don't want to have to type out the list every time you want to reference it.\n",
    "- Create an array to make writing this more efficient.\n",
    "- Come up with a unique title for the list and replace NAME with your title.\n",
    "- Replace LIST with your list. Make sure to remember the quotation marks and commas."
   ]
  },
  {
   "cell_type": "code",
   "execution_count": null,
   "id": "23549d37",
   "metadata": {
    "vscode": {
     "languageId": "javascript"
    }
   },
   "outputs": [
    {
     "data": {
      "text/html": [
       "\n",
       "<html>\n",
       "\n",
       "<body>\n",
       "  <h2>Output</h2>\n",
       "  <div id=\"output3\"></div>\n",
       "\n",
       "  <script>\n",
       "    document.getElementById(\"output3\").innerText = \"\"; // Clear output\n",
       "    (() => {\n",
       "\n",
       "\n",
       "      let NAME = [LIST];\n",
       "      // Replace the blanks! HINT: the line above\n",
       "      const smallParagraph = \"After school, I like to \" + _____ + \". This is because \" + _____ + \" is really fun to me. I think you should try \" + _____ + \".\"; \n",
       "      console.log(smallParagraph);\n",
       "      document.getElementById(\"output3\").innerText += smallParagraph;\n",
       "\n",
       "\n",
       "    })();\n",
       "  </script>\n",
       "</body>\n",
       "</html>\n"
      ],
      "text/plain": [
       "<IPython.core.display.HTML object>"
      ]
     },
     "metadata": {},
     "output_type": "display_data"
    }
   ],
   "source": [
    "%%html\n",
    "\n",
    "<html>\n",
    "\n",
    "<body>\n",
    "  <h2>Output</h2>\n",
    "  <div id=\"output3\"></div>\n",
    "\n",
    "  <script>\n",
    "    document.getElementById(\"output3\").innerText = \"\"; // Clear output\n",
    "    (() => {\n",
    "\n",
    "      \n",
    "      let NAME = [LIST];\n",
    "      // Replace the blanks, that look like this _____, below! HINT: the line above\n",
    "      const smallParagraph = \"After school, I like to \" + _____ + \". This is because \" + _____ + \" is really fun to me. I think you should try \" + _____ + \".\"; \n",
    "      console.log(smallParagraph);\n",
    "      document.getElementById(\"output3\").innerText += smallParagraph;\n",
    "\n",
    "\n",
    "    })();\n",
    "  </script>\n",
    "</body>\n",
    "</html>"
   ]
  },
  {
   "cell_type": "markdown",
   "id": "00afdd6d",
   "metadata": {},
   "source": [
    "If you did that correctly, you'll realize that you would've spent a LOT more time on that if you decided to type out your list every time it occured in those sentences instead of just using an array. When people use arrays, they have the goal of efficiency, and also organization. Arrays can help code from getting too lengthy, especially if the list if quite long and is referenced quite a lot.\n",
    "\n",
    "### Part C (Graded on whether it worked or not)\n",
    "\n",
    "Try it out yourself!\n",
    "\n",
    "- Suppose you have a group of friends: Bob, Tom, and Steve. You are talking about them to a robot, and you are getting tired of saying each of their names over and over because this robot does not understand the concept of pronouns. How can you fix this?\n",
    "    - In the code cell below, make an array to solve your problem. Write three sentences, each including the array. Use the console log and DOM to print the output. (if you don't know how to do this, you can reference the formats from the previous code cells and figure out what you should type. Make sure to note the subtle differences though, or else it won't work)"
   ]
  },
  {
   "cell_type": "code",
   "execution_count": null,
   "id": "313f57b8",
   "metadata": {
    "vscode": {
     "languageId": "javascript"
    }
   },
   "outputs": [
    {
     "data": {
      "text/html": [
       "\n",
       "<html>\n",
       "\n",
       "<body>\n",
       "  <h2>Output</h2>\n",
       "  <div id=\"output4\"></div>\n",
       "\n",
       "  <script>\n",
       "    document.getElementById(\"output4\").innerText = \"\"; // Clear output\n",
       "    (() => {\n",
       "\n",
       "\n",
       "\n",
       "\n",
       "    })();\n",
       "  </script>\n",
       "</body>\n",
       "</html>\n"
      ],
      "text/plain": [
       "<IPython.core.display.HTML object>"
      ]
     },
     "metadata": {},
     "output_type": "display_data"
    }
   ],
   "source": [
    "%%html\n",
    "\n",
    "<html>\n",
    "\n",
    "<body>\n",
    "  <h2>Output</h2>\n",
    "  <div id=\"output4\"></div>\n",
    "\n",
    "  <script>\n",
    "    document.getElementById(\"output4\").innerText = \"\"; // Clear output\n",
    "    (() => {\n",
    "\n",
    "        \n",
    "\n",
    "\n",
    "    })();\n",
    "  </script>\n",
    "</body>\n",
    "</html>"
   ]
  },
  {
   "cell_type": "markdown",
   "id": "ff7c2ec5",
   "metadata": {},
   "source": [
    "## Submit here\n",
    "https://docs.google.com/forms/d/e/1FAIpQLSfqHrQwvgNYvxxUxMD5mIfSgfZGkiDu6uPV0I_GMG8wqSQzpw/viewform?usp=header"
   ]
  }
 ],
 "metadata": {
  "kernelspec": {
   "display_name": "venv",
   "language": "python",
   "name": "python3"
  },
  "language_info": {
   "codemirror_mode": {
    "name": "ipython",
    "version": 3
   },
   "file_extension": ".py",
   "mimetype": "text/x-python",
   "name": "python",
   "nbconvert_exporter": "python",
   "pygments_lexer": "ipython3",
   "version": "3.13.7"
  }
 },
 "nbformat": 4,
 "nbformat_minor": 5
}

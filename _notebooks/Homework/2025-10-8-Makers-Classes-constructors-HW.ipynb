{
 "cells": [
  {
   "cell_type": "raw",
   "id": "f46d5103",
   "metadata": {
    "vscode": {
     "languageId": "raw"
    }
   },
   "source": [
    "---\n",
    "layout: post\n",
    "title: Classes and Constructors Homework\n",
    "description:  Classes and Constructors Homework\n",
    "categories: [Javascript, Homework]\n",
    "permalink: /classes-constructors-HW\n",
    "author: Makers\n",
    "---"
   ]
  },
  {
   "cell_type": "markdown",
   "id": "b0f73322",
   "metadata": {},
   "source": [
    "## <u>JavaScript Classes and Constructors Homework<u>\n",
    "By now you should have a decent grasp of classes and constructors, and how to make and build one. The following exercises should help you solidify your understanding of classes and constructors in JavaScript."
   ]
  },
  {
   "cell_type": "markdown",
   "id": "4be7bd0a",
   "metadata": {
    "vscode": {
     "languageId": "javascript"
    }
   },
   "source": [
    "## Popcorn Hack 1\n",
    "1. The class TennisPlayer has been defined for you. Create a constructor with the arguements name, rank, and rankPoints.\n",
    "2. Call the class with the arguments Novak Djokovic, 1, 16000. \n",
    "3. Add one or more of the following arguments to the initial constructor: age, tournamentsPlayed, titlesWon. Add this as part of the profile output."
   ]
  },
  {
   "cell_type": "code",
   "execution_count": 2,
   "id": "7399ab93",
   "metadata": {
    "vscode": {
     "languageId": "javascript"
    }
   },
   "outputs": [
    {
     "data": {
      "application/javascript": " \nclass TennisPlayer {\n    constructor(name, rank, rankPoints, age) {\n    this.name = Novak Djokovic\n    this.rank = 1\n    this.rankPoints = 16000\n    this.age = 15\n    };\n    profile () {\n        console.log(\"Hi my name is \" + this.name + \", I am \" + this.age + \", and my rank is \" + this.rank + \" and I have \" + this.rankPoints + \" ranking points.\");\n    }\n\n};\n//Call the class here\nclass Player1 = new TennisPlayer('Sophie, 28, 18000')\n\n// call the method\nPlayer1.profile()\n",
      "text/plain": [
       "<IPython.core.display.Javascript object>"
      ]
     },
     "metadata": {},
     "output_type": "display_data"
    }
   ],
   "source": [
    "%%javascript\n",
    " \n",
    "class TennisPlayer {\n",
    "    constructor(name, rank, rankPoints, age) {\n",
    "    this.name = Novak Djokovic\n",
    "    this.rank = 1\n",
    "    this.rankPoints = 16000\n",
    "    this.age = 15\n",
    "    };\n",
    "    profile () {\n",
    "        console.log(\"Hi my name is \" + this.name + \", I am \" + this.age + \", and my rank is \" + this.rank + \" and I have \" + this.rankPoints + \" ranking points.\");\n",
    "    }\n",
    "\n",
    "};\n",
    "//Call the class here\n",
    "class Player1 = new TennisPlayer('Sophie, 28, 18000')\n",
    "\n",
    "// call the method\n",
    "Player1.profile()\n"
   ]
  },
  {
   "cell_type": "markdown",
   "id": "847cedc1",
   "metadata": {},
   "source": [
    "## Popcorn Hack 2\n",
    "\n",
    "1. Create a class called library\n",
    "2. Within library create a class called book with a constructors that allows the two methods - add book and remove book\n",
    "3. Add another inner class called computers - and have it output the number of computers on\n",
    "\n",
    "Below is the starter code to get you started"
   ]
  },
  {
   "cell_type": "code",
   "execution_count": null,
   "id": "e7bad2b3",
   "metadata": {
    "vscode": {
     "languageId": "javascript"
    }
   },
   "outputs": [],
   "source": [
    "// Step 1: Create the main class called Library\n",
    "class Library {\n",
    "    constructor(name) {\n",
    "        this.name = name;\n",
    "        console.log(`Welcome to the`, this.name, `Library!`);\n",
    "    }\n",
    "\n",
    "    // Step 2: Create an inner class called Book\n",
    "    static Book = class {\n",
    "        //create a constructor with that takes the this.books argument.\n",
    "\n",
    "        addBook(title) {\n",
    "            this.books.push(title);\n",
    "            console.log(`Added \"${title}\" to the library.`);\n",
    "        }\n",
    "\n",
    "        removeBook(title) { \n",
    "            const index = this.books.indexOf(title);\n",
    "            if (index > -1) {\n",
    "                this.books.splice(index, 1);\n",
    "                console.log(`Removed \"${title}\" from the library.`);\n",
    "            } else {\n",
    "                console.log(`\"${title}\" not found in the library.`);\n",
    "            }\n",
    "    }\n",
    "\n",
    "    // Step 3: Create another inner class called Computers\n",
    "    static Computers = class {\n",
    "        // TODO: Create a constructor that takes computersOn as an argument\n",
    "\n",
    "        // TODO: Create a method that outputs the number of computers on\n",
    "    }\n",
    "}\n",
    "\n",
    "// --- Example Usage ---\n",
    "// Uncomment after writing your constructors!\n",
    "\n",
    "// const myLibrary = new Library(\"Downtown\");\n",
    "// const bookManager = new Library.Book();\n",
    "// const techRoom = new Library.Computers(8);\n",
    "\n",
    "// bookManager.addBook(\"The Hobbit\");\n",
    "// bookManager.addBook(\"1984\");\n",
    "// bookManager.removeBook(\"The Hobbit\");\n",
    "// techRoom.showComputersOn();\n"
   ]
  },
  {
   "cell_type": "markdown",
   "id": "24d1fadb",
   "metadata": {},
   "source": [
    "## Homework\n",
    "Create and expand the Cookie Clicker project:\n",
    "1. Fill out the cookies and cookiesPerClick variables.\n",
    "2. Define what should happen upon clicking the cookie.\n",
    "3. Create an `Upgrade` class that multiplies cookies per click, and expand the original cookieclicker class to integrate upgardes.\n",
    "5. Print how each upgrade changes the total cookie output.\n",
    "6. Add a cookie type variable which sets the specific type of cookie (ex: Chocolate chip, Oatmeal, etc.)\n",
    "The following code is to help you get started.\n",
    "\n",
    "#### Extra credit: Up to 0.03 points\n",
    "- Create a new cell, apply the ALL of the above changes to a blank cookie clicker project, and submit that code for the cookie clicker project."
   ]
  },
  {
   "cell_type": "code",
   "execution_count": null,
   "id": "e9c84d6f",
   "metadata": {
    "vscode": {
     "languageId": "javascript"
    }
   },
   "outputs": [],
   "source": [
    "%%javascript\n",
    "\n",
    "class CookieClicker {\n",
    "  constructor(cookies,cookiesPerClick) {\n",
    "    this.cookies = ____; //start value\n",
    "    this.cookiesPerClick = ____;\n",
    "  }\n",
    "\n",
    "  click() {\n",
    "    this.cookies += this.cookiesPerClick;\n",
    "    console.log(`You have ${this.cookies} cookies.`);\n",
    "  }\n",
    "}\n"
   ]
  },
  {
   "cell_type": "markdown",
   "id": "0180a89f",
   "metadata": {},
   "source": [
    "This is where you will find homework: [Github Homework Link](https://github.com/Open-Coding-Society/pages/tree/main/_notebooks/CSSE/JavaScriptLessons/Classes_and_Methods)"
   ]
  }
 ],
 "metadata": {
  "kernelspec": {
   "display_name": "Python 3",
   "language": "python",
   "name": "python3"
  },
  "language_info": {
   "codemirror_mode": {
    "name": "ipython",
    "version": 3
   },
   "file_extension": ".py",
   "mimetype": "text/x-python",
   "name": "python",
   "nbconvert_exporter": "python",
   "pygments_lexer": "ipython3",
   "version": "3.12.3"
  }
 },
 "nbformat": 4,
 "nbformat_minor": 5
}

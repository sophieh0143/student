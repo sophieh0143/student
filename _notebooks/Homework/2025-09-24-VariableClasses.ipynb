{
 "cells": [
  {
   "cell_type": "code",
   "execution_count": null,
   "id": "e90135fa",
   "metadata": {},
   "outputs": [],
   "source": [
    "---\n",
    "toc: True\n",
    "layout: post\n",
    "data: tools\n",
    "title: Varclasses\n",
    "description: Teaching Variables and Classes\n",
    "permalink: /tools/VarClass\n",
    "breadcrumb: True\n",
    "---"
   ]
  },
  {
   "cell_type": "markdown",
   "id": "12325025",
   "metadata": {},
   "source": [
    "## POPCORN HACK 1 A short program about variables\n"
   ]
  },
  {
   "cell_type": "code",
   "execution_count": 2,
   "id": "cd165c29",
   "metadata": {
    "vscode": {
     "languageId": "javascript"
    }
   },
   "outputs": [
    {
     "data": {
      "application/javascript": "// Step 1: Make some variables\nlet name = \"Sam\";\nlet age = 10;\n\n// Step 2: Print a message\nconsole.log(\"Hi, my name is\", name);\nconsole.log(\"I am\", age, \"years old.\");\n\n// Step 3: Unfinished part\n// TODO: Make a new variable called \"nextYearAge\"\n// that is the age plus 1\nlet nextYearAge = age + 1;\n\n// let nextYearAge = ???   // <-- finish this line!\n\n// TODO: Print out the result\n// Example: \"Next year I will be 11 years old.\"\nconsole.log(\"Next year I will be 11 years old\"); // <-- finish this line!\n\n",
      "text/plain": [
       "<IPython.core.display.Javascript object>"
      ]
     },
     "metadata": {},
     "output_type": "display_data"
    }
   ],
   "source": [
    "%%javascript\n",
    "// Step 1: Make some variables\n",
    "let name = \"Sam\";\n",
    "let age = 10;\n",
    "\n",
    "// Step 2: Print a message\n",
    "console.log(\"Hi, my name is\", name);\n",
    "console.log(\"I am\", age, \"years old.\");\n",
    "\n",
    "// Step 3: Unfinished part\n",
    "// TODO: Make a new variable called \"nextYearAge\"\n",
    "// that is the age plus 1\n",
    "let nextYearAge = age + 1;\n",
    "\n",
    "// let nextYearAge = ???   // <-- finish this line!\n",
    "\n",
    "// TODO: Print out the result\n",
    "// Example: \"Next year I will be 11 years old.\"\n",
    "console.log(\"Next year I will be 11 years old\"); // <-- finish this line!\n",
    "\n"
   ]
  },
  {
   "cell_type": "markdown",
   "id": "8b9b8297",
   "metadata": {},
   "source": [
    "## POPCORN HACK 2 A short program about classes\n"
   ]
  },
  {
   "cell_type": "code",
   "execution_count": 5,
   "id": "90501500",
   "metadata": {
    "vscode": {
     "languageId": "javascript"
    }
   },
   "outputs": [
    {
     "data": {
      "application/javascript": "// Step 1: Define the Animal class\nclass Animal {\n  // Initialize each animal with a name, sound, and type\n  constructor(Buddy, bark, dog) {\n    this.name = Buddy;\n    this.sound = bark;\n    this.kind = dog;\n  }\n\n  // Make the animal speak\n  speak() {\n    console.log(`${this.name} the ${this.kind} says ${this.sound}!`);\n  }\n\n  // Bonus method: describe the animal\n  describe() {\n    console.log(`${this.name} is a ${this.kind} and is very aggresive!`);\n  }\n}\n\n// Step 2: Create a list to hold all the animals in the zoo\nlet zoo = [];\n\n// Step 3: Add animals to the zoo\n// TODO: Create at least 3 animals and push them into the zoo array\n// Example:\nzoo.push(new Animal(\"Buddy\", \"Woof\", \"Dog\"));\nzoo.push(new Animal(\"Cowabunga\", \"Meow\", \"Cat\"));\nzoo.push(new Animal(\"Polly\", \"Squawk\", \"Parrot\"));\n\n// Step 4: Loop through all animals and make them speak\n// TODO: Use a for loop (or forEach) to call speak() on each animal\nzoo.forEach(animal => {\n  animal.speak();\n  // Step 5: Optional bonus: Call describe() too\n  animal.describe();\n});\n\n// Step 5 Bonus: Let the user add a new animal (works in browser)\n// Uncomment if running in browser with prompt()\nlet name = prompt(\"Bob:\");\nlet sound = prompt(\"rawr:\");\nlet kind = prompt(\"the builder:\");\nlet newAnimal = new Animal(name, sound, kind);\nzoo.push(newAnimal);\nnewAnimal.speak();\nnewAnimal.describe();\n\n",
      "text/plain": [
       "<IPython.core.display.Javascript object>"
      ]
     },
     "metadata": {},
     "output_type": "display_data"
    }
   ],
   "source": [
    "%%javascript\n",
    "// Step 1: Define the Animal class\n",
    "class Animal {\n",
    "  // Initialize each animal with a name, sound, and type\n",
    "  constructor(Buddy, bark, dog) {\n",
    "    this.name = Buddy;\n",
    "    this.sound = bark;\n",
    "    this.kind = dog;\n",
    "  }\n",
    "\n",
    "  // Make the animal speak\n",
    "  speak() {\n",
    "    console.log(`${this.name} the ${this.kind} says ${this.sound}!`);\n",
    "  }\n",
    "\n",
    "  // Bonus method: describe the animal\n",
    "  describe() {\n",
    "    console.log(`${this.name} is a ${this.kind} and is very aggresive!`);\n",
    "  }\n",
    "}\n",
    "\n",
    "// Step 2: Create a list to hold all the animals in the zoo\n",
    "let zoo = [];\n",
    "\n",
    "// Step 3: Add animals to the zoo\n",
    "// TODO: Create at least 3 animals and push them into the zoo array\n",
    "// Example:\n",
    "zoo.push(new Animal(\"Buddy\", \"Woof\", \"Dog\"));\n",
    "zoo.push(new Animal(\"Cowabunga\", \"Meow\", \"Cat\"));\n",
    "zoo.push(new Animal(\"Polly\", \"Squawk\", \"Parrot\"));\n",
    "\n",
    "// Step 4: Loop through all animals and make them speak\n",
    "// TODO: Use a for loop (or forEach) to call speak() on each animal\n",
    "zoo.forEach(animal => {\n",
    "  animal.speak();\n",
    "  // Step 5: Optional bonus: Call describe() too\n",
    "  animal.describe();\n",
    "});\n",
    "\n",
    "// Step 5 Bonus: Let the user add a new animal (works in browser)\n",
    "// Uncomment if running in browser with prompt()\n",
    "let name = prompt(\"Bob:\");\n",
    "let sound = prompt(\"rawr:\");\n",
    "let kind = prompt(\"the builder:\");\n",
    "let newAnimal = new Animal(name, sound, kind);\n",
    "zoo.push(newAnimal);\n",
    "newAnimal.speak();\n",
    "newAnimal.describe();\n",
    "\n"
   ]
  },
  {
   "cell_type": "markdown",
   "id": "efc35c8b",
   "metadata": {},
   "source": [
    "## Homework"
   ]
  },
  {
   "cell_type": "code",
   "execution_count": 6,
   "id": "c47afda8",
   "metadata": {
    "vscode": {
     "languageId": "javascript"
    }
   },
   "outputs": [
    {
     "data": {
      "application/javascript": "// Step 1: Make a list of choices\nconst choices = [\"rock\", \"paper\", \"scissors\"];\n\n// Step 2: Ask the user for their choice (browser version with prompt)\nlet userChoice = prompt(\"Choose rock, paper, or scissors:\").toLowerCase();\n\n// Step 3: Computer picks a random choice\nconst computerChoice = choices[Math.floor(Math.random() * choices.length)];\nconsole.log(\"Computer chose:\", computerChoice);\n\n// Step 4: Compare userChoice and computerChoice\nif (userChoice === computerChoice) {\n    console.log(\"It's a tie!\");\n  } else if (\n    (userChoice === \"rock\" && computerChoice === \"scissors\") ||\n    (userChoice === \"scissors\" && computerChoice === \"paper\") ||\n    (userChoice === \"paper\" && computerChoice === \"rock\")\n  ) {\n    console.log(\"You win!\");\n  } else if (\n    userChoice === \"rock\" ||\n    userChoice === \"paper\" ||\n    userChoice === \"scissors\"\n  ) {\n    console.log(\"You lose!\");\n  } else {\n    console.log(\"Invalid choice! Please choose rock, paper, or scissors.\");\n  }\n\n// Bonus: Put the whole game in a loop\nwhile (true) {\n  // Step 2: Ask the user for their choice (browser version with prompt)\n  let userChoice = prompt(\"Choose rock, paper, or scissors:\").toLowerCase();\n\n  // If the user clicks \"Cancel\" or leaves it blank, stop the game\n  if (!userChoice) {\n    console.log(\"Game ended. Thanks for playing!\");\n    break;\n  }\n// Uncomment to play multiple rounds in browser\n/*\nwhile (true) {\n  let userChoice = prompt(\"Choose rock, paper, or scissors”)\n",
      "text/plain": [
       "<IPython.core.display.Javascript object>"
      ]
     },
     "metadata": {},
     "output_type": "display_data"
    }
   ],
   "source": [
    "%%javascript\n",
    "// Step 1: Make a list of choices\n",
    "const choices = [\"rock\", \"paper\", \"scissors\"];\n",
    "\n",
    "// Step 2: Ask the user for their choice (browser version with prompt)\n",
    "let userChoice = prompt(\"Choose rock, paper, or scissors:\").toLowerCase();\n",
    "\n",
    "// Step 3: Computer picks a random choice\n",
    "const computerChoice = choices[Math.floor(Math.random() * choices.length)];\n",
    "console.log(\"Computer chose:\", computerChoice);\n",
    "\n",
    "// Step 4: Compare userChoice and computerChoice\n",
    "if (userChoice === computerChoice) {\n",
    "    console.log(\"It's a tie!\");\n",
    "  } else if (\n",
    "    (userChoice === \"rock\" && computerChoice === \"scissors\") ||\n",
    "    (userChoice === \"scissors\" && computerChoice === \"paper\") ||\n",
    "    (userChoice === \"paper\" && computerChoice === \"rock\")\n",
    "  ) {\n",
    "    console.log(\"You win!\");\n",
    "  } else if (\n",
    "    userChoice === \"rock\" ||\n",
    "    userChoice === \"paper\" ||\n",
    "    userChoice === \"scissors\"\n",
    "  ) {\n",
    "    console.log(\"You lose!\");\n",
    "  } else {\n",
    "    console.log(\"Invalid choice! Please choose rock, paper, or scissors.\");\n",
    "  }\n",
    "\n",
    "// Bonus: Put the whole game in a loop\n",
    "while (true) {\n",
    "  // Step 2: Ask the user for their choice (browser version with prompt)\n",
    "  let userChoice = prompt(\"Choose rock, paper, or scissors:\").toLowerCase();\n",
    "\n",
    "  // If the user clicks \"Cancel\" or leaves it blank, stop the game\n",
    "  if (!userChoice) {\n",
    "    console.log(\"Game ended. Thanks for playing!\");\n",
    "    break;\n",
    "  }\n",
    "// Uncomment to play multiple rounds in browser\n",
    "/*\n",
    "while (true) {\n",
    "  let userChoice = prompt(\"Choose rock, paper, or scissors”)\n"
   ]
  },
  {
   "cell_type": "markdown",
   "id": "b0c99301",
   "metadata": {},
   "source": [
    "## Sumbmission!"
   ]
  },
  {
   "cell_type": "markdown",
   "id": "2c838d30",
   "metadata": {},
   "source": [
    "https://forms.gle/2aPP6CXFdQnNaE7GA"
   ]
  }
 ],
 "metadata": {
  "kernelspec": {
   "display_name": "Python 3",
   "language": "python",
   "name": "python3"
  },
  "language_info": {
   "codemirror_mode": {
    "name": "ipython",
    "version": 3
   },
   "file_extension": ".py",
   "mimetype": "text/x-python",
   "name": "python",
   "nbconvert_exporter": "python",
   "pygments_lexer": "ipython3",
   "version": "3.12.3"
  }
 },
 "nbformat": 4,
 "nbformat_minor": 5
}

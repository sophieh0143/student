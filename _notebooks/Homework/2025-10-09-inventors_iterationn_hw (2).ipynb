{
 "cells": [
  {
   "cell_type": "raw",
   "id": "8bc5a172",
   "metadata": {
    "vscode": {
     "languageId": "raw"
    }
   },
   "source": [
    "---\n",
    "layout: post\n",
    "toc: True\n",
    "title: Inventors - Iterations Lesson HW\n",
    "description: These are the homework problems and popcorn hacks.\n",
    "permalink: /javascript/iteration/inventors-hw\n",
    "author: Pranav Sai, Aravind G\n",
    "categories: ['JavaScript']\n",
    "---\n"
   ]
  },
  {
   "cell_type": "markdown",
   "id": "b95aaf89",
   "metadata": {},
   "source": [
    "### Hack 1: The \"Counting Stars\" Hack (The while Loop) \n",
    "\n",
    "Instruction: To run this hack, call the countStars() function with a number to set the limit for the star count.\n"
   ]
  },
  {
   "cell_type": "code",
   "execution_count": 2,
   "id": "14dbac4f",
   "metadata": {
    "vscode": {
     "languageId": "javascript"
    }
   },
   "outputs": [
    {
     "data": {
      "application/javascript": "\nfunction countStars(limit) {\n  // 1. Initialize a counter variable. We'll start our count at 1.\n  let count = ###;\n\n\n  // 2. Start the `while` loop. The code inside this loop will run\n  // as long as the condition `count <= limit` is true.\n  while (######) {\n    // 3. This is the code that runs in each iteration.\n    console.log(`Star #${count} shining bright!`);\n\n\n    // 4. This is the increment step. It's crucial! If we don't\n    // increase the `count`, the loop will run forever (an infinite loop).\n    ##############\n  }\n\n\n  // 5. This message is displayed once the loop condition is no longer true\n  // and the loop has finished.\n  console.log(\"All the stars have been counted.\");\n}\n",
      "text/plain": [
       "<IPython.core.display.Javascript object>"
      ]
     },
     "metadata": {},
     "output_type": "display_data"
    }
   ],
   "source": [
    "%%javascript\n",
    "\n",
    "function countStars(limit) {\n",
    "  // 1. Initialize a counter variable. We'll start our count at 1.\n",
    "  let count = ###;\n",
    "\n",
    "\n",
    "  // 2. Start the `while` loop. The code inside this loop will run\n",
    "  // as long as the condition `count <= limit` is true.\n",
    "  while (######) {\n",
    "    // 3. This is the code that runs in each iteration.\n",
    "    console.log(`Star #${count} shining bright!`);\n",
    "\n",
    "\n",
    "    // 4. This is the increment step. It's crucial! If we don't\n",
    "    // increase the `count`, the loop will run forever (an infinite loop).\n",
    "    ##############\n",
    "  }\n",
    "\n",
    "\n",
    "  // 5. This message is displayed once the loop condition is no longer true\n",
    "  // and the loop has finished.\n",
    "  console.log(\"All the stars have been counted.\");\n",
    "}\n"
   ]
  },
  {
   "cell_type": "markdown",
   "id": "809bf254",
   "metadata": {},
   "source": [
    "### Hack 2: The \"Playlist Shuffle\" Hack (The For Loop) 🎵\n",
    "Instruction: To run this hack, define an array of strings called mySongs and pass that array into the playlistShuffle() function."
   ]
  },
  {
   "cell_type": "code",
   "execution_count": null,
   "id": "ec9b4c8a",
   "metadata": {
    "vscode": {
     "languageId": "javascript"
    }
   },
   "outputs": [
    {
     "data": {
      "application/javascript": "function playlistShuffle(playlist) {\n  // 1. Start the `for...of` loop. This loop is perfect for iterating\n  // over the items of an array.\n  // The variable `song` will hold the value of each item in the `playlist` array, one by one.\n  for (const song of playlist) {\n    // 2. Action performed for each song in the array.\n    console.log(`Now playing: \"${song}\"`);\n  }\n\n\n  // 3. This message is displayed once the loop has processed every item in the array.\n  console.log(\"Playlist finished. Time to create a new one!\");\n}\n\n\n// Example of how to define the array:\nconst mySongs = [\"Song A\", \"Song B\", \"Song C\", \"Song D\"]; \n// Then, call the function: playlistShuffle(mySongs);\n\n\n",
      "text/plain": [
       "<IPython.core.display.Javascript object>"
      ]
     },
     "metadata": {},
     "output_type": "display_data"
    }
   ],
   "source": [
    "%%javascript\n",
    "function playlistShuffle(playlist) {\n",
    "  // 1. Start the `for...of` loop. This loop is perfect for iterating\n",
    "  // over the items of an array.\n",
    "  // The variable `song` will hold the value of each item in the `playlist` array, one by one.\n",
    "  ###### (const song of playlist) {\n",
    "    // 2. Action performed for each song in the array.\n",
    "    console.log(`Now playing: \"${song}\"`);\n",
    "  }\n",
    "\n",
    "\n",
    "  // 3. This message is displayed once the loop has processed every item in the array.\n",
    "  console.log(########);\n",
    "}\n",
    "\n",
    "\n",
    "// Example of how to define the array:\n",
    "const mySongs = [##########]; \n",
    "// Then, call the function: playlistShuffle(mySongs);\n",
    "\n",
    "\n"
   ]
  },
  {
   "cell_type": "markdown",
   "id": "c45bc843",
   "metadata": {},
   "source": [
    "# Submission\n",
    "\n",
    "You will submit the link to your homework on a web page in the below form.  \n",
    "If you are unable to get your homework accessible from the website, you can upload this Jupyter notebook to the form.\n",
    "\n",
    "**IMPORTANT: If uploading, please name this Jupyter notebook in this format: [FirstName][LastName]_iterations_hw.ipynb**\n",
    "\n",
    "\n",
    "https://forms.gle/yaiYRXDq341kb2538\n"
   ]
  }
 ],
 "metadata": {
  "kernelspec": {
   "display_name": "venv",
   "language": "python",
   "name": "python3"
  },
  "language_info": {
   "codemirror_mode": {
    "name": "ipython",
    "version": 3
   },
   "file_extension": ".py",
   "mimetype": "text/x-python",
   "name": "python",
   "nbconvert_exporter": "python",
   "pygments_lexer": "ipython3",
   "version": "3.11.9"
  }
 },
 "nbformat": 4,
 "nbformat_minor": 5
}
